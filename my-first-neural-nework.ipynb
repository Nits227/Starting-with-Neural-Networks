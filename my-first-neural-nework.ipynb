{
 "cells": [
  {
   "cell_type": "code",
   "execution_count": 1,
   "id": "9e489f19",
   "metadata": {
    "execution": {
     "iopub.execute_input": "2025-09-21T13:51:17.374665Z",
     "iopub.status.busy": "2025-09-21T13:51:17.374400Z",
     "iopub.status.idle": "2025-09-21T13:58:05.132096Z",
     "shell.execute_reply": "2025-09-21T13:58:05.131228Z"
    },
    "papermill": {
     "duration": 407.762173,
     "end_time": "2025-09-21T13:58:05.133397",
     "exception": false,
     "start_time": "2025-09-21T13:51:17.371224",
     "status": "completed"
    },
    "tags": []
   },
   "outputs": [
    {
     "name": "stdout",
     "output_type": "stream",
     "text": [
      "Using device: cuda\n",
      "============================================================\n",
      "MNIST Digit Classification - Improved Version\n",
      "============================================================\n"
     ]
    },
    {
     "name": "stderr",
     "output_type": "stream",
     "text": [
      "100%|██████████| 9.91M/9.91M [00:00<00:00, 59.7MB/s]\n",
      "100%|██████████| 28.9k/28.9k [00:00<00:00, 1.66MB/s]\n",
      "100%|██████████| 1.65M/1.65M [00:00<00:00, 14.4MB/s]\n",
      "100%|██████████| 4.54k/4.54k [00:00<00:00, 9.01MB/s]\n"
     ]
    },
    {
     "name": "stdout",
     "output_type": "stream",
     "text": [
      "Dataset sizes - Train: 54000, Val: 6000, Test: 10000\n",
      "Using fully connected architecture\n",
      "Model has 235,146 trainable parameters\n",
      "Training configuration:\n",
      "  Batch size: 64\n",
      "  Learning rate: 0.001\n",
      "  Dropout rate: 0.2\n",
      "  Max epochs: 50\n",
      "  Weight decay: 1e-4\n",
      "Starting training for up to 50 epochs...\n",
      "------------------------------------------------------------\n"
     ]
    },
    {
     "name": "stderr",
     "output_type": "stream",
     "text": [
      "Epoch  1/50: 100%|███████████████████████████████████| 844/844 [00:19<00:00, 43.05it/s, Loss=0.3674]\n"
     ]
    },
    {
     "name": "stdout",
     "output_type": "stream",
     "text": [
      "Epoch  1: Train Loss: 0.3902, Train Acc: 87.72%, Val Acc: 94.53%\n"
     ]
    },
    {
     "name": "stderr",
     "output_type": "stream",
     "text": [
      "Epoch  2/50: 100%|███████████████████████████████████| 844/844 [00:19<00:00, 43.94it/s, Loss=0.2017]\n"
     ]
    },
    {
     "name": "stdout",
     "output_type": "stream",
     "text": [
      "Epoch  2: Train Loss: 0.2006, Train Acc: 93.85%, Val Acc: 95.38%\n",
      "         Learning rate: 0.001000\n"
     ]
    },
    {
     "name": "stderr",
     "output_type": "stream",
     "text": [
      "Epoch  3/50: 100%|███████████████████████████████████| 844/844 [00:19<00:00, 44.36it/s, Loss=0.2126]\n"
     ]
    },
    {
     "name": "stdout",
     "output_type": "stream",
     "text": [
      "Epoch  3: Train Loss: 0.1707, Train Acc: 94.72%, Val Acc: 96.08%\n",
      "         Learning rate: 0.001000\n"
     ]
    },
    {
     "name": "stderr",
     "output_type": "stream",
     "text": [
      "Epoch  4/50: 100%|███████████████████████████████████| 844/844 [00:18<00:00, 44.47it/s, Loss=0.2735]\n"
     ]
    },
    {
     "name": "stdout",
     "output_type": "stream",
     "text": [
      "Epoch  4: Train Loss: 0.1522, Train Acc: 95.22%, Val Acc: 96.00%\n",
      "         Learning rate: 0.001000\n"
     ]
    },
    {
     "name": "stderr",
     "output_type": "stream",
     "text": [
      "Epoch  5/50: 100%|███████████████████████████████████| 844/844 [00:19<00:00, 44.35it/s, Loss=0.0446]\n"
     ]
    },
    {
     "name": "stdout",
     "output_type": "stream",
     "text": [
      "Epoch  5: Train Loss: 0.1404, Train Acc: 95.67%, Val Acc: 96.23%\n",
      "         Learning rate: 0.001000\n"
     ]
    },
    {
     "name": "stderr",
     "output_type": "stream",
     "text": [
      "Epoch  6/50: 100%|███████████████████████████████████| 844/844 [00:18<00:00, 44.55it/s, Loss=0.2849]\n"
     ]
    },
    {
     "name": "stdout",
     "output_type": "stream",
     "text": [
      "Epoch  6: Train Loss: 0.1370, Train Acc: 95.77%, Val Acc: 96.80%\n",
      "         Learning rate: 0.001000\n"
     ]
    },
    {
     "name": "stderr",
     "output_type": "stream",
     "text": [
      "Epoch  7/50: 100%|███████████████████████████████████| 844/844 [00:19<00:00, 44.26it/s, Loss=0.0291]\n"
     ]
    },
    {
     "name": "stdout",
     "output_type": "stream",
     "text": [
      "Epoch  7: Train Loss: 0.1329, Train Acc: 95.82%, Val Acc: 96.85%\n",
      "         Learning rate: 0.000100\n"
     ]
    },
    {
     "name": "stderr",
     "output_type": "stream",
     "text": [
      "Epoch  8/50: 100%|███████████████████████████████████| 844/844 [00:19<00:00, 44.34it/s, Loss=0.0858]\n"
     ]
    },
    {
     "name": "stdout",
     "output_type": "stream",
     "text": [
      "Epoch  8: Train Loss: 0.1002, Train Acc: 96.89%, Val Acc: 97.43%\n",
      "         Learning rate: 0.000100\n"
     ]
    },
    {
     "name": "stderr",
     "output_type": "stream",
     "text": [
      "Epoch  9/50: 100%|███████████████████████████████████| 844/844 [00:19<00:00, 44.40it/s, Loss=0.0360]\n"
     ]
    },
    {
     "name": "stdout",
     "output_type": "stream",
     "text": [
      "Epoch  9: Train Loss: 0.0902, Train Acc: 97.23%, Val Acc: 97.33%\n",
      "         Learning rate: 0.000100\n"
     ]
    },
    {
     "name": "stderr",
     "output_type": "stream",
     "text": [
      "Epoch 10/50: 100%|███████████████████████████████████| 844/844 [00:18<00:00, 44.44it/s, Loss=0.0606]\n"
     ]
    },
    {
     "name": "stdout",
     "output_type": "stream",
     "text": [
      "Epoch 10: Train Loss: 0.0902, Train Acc: 97.16%, Val Acc: 97.33%\n",
      "         Learning rate: 0.000100\n"
     ]
    },
    {
     "name": "stderr",
     "output_type": "stream",
     "text": [
      "Epoch 11/50: 100%|███████████████████████████████████| 844/844 [00:18<00:00, 44.59it/s, Loss=0.0788]\n"
     ]
    },
    {
     "name": "stdout",
     "output_type": "stream",
     "text": [
      "Epoch 11: Train Loss: 0.0846, Train Acc: 97.28%, Val Acc: 97.32%\n",
      "         Learning rate: 0.000100\n"
     ]
    },
    {
     "name": "stderr",
     "output_type": "stream",
     "text": [
      "Epoch 12/50: 100%|███████████████████████████████████| 844/844 [00:19<00:00, 44.36it/s, Loss=0.1643]\n"
     ]
    },
    {
     "name": "stdout",
     "output_type": "stream",
     "text": [
      "Epoch 12: Train Loss: 0.0838, Train Acc: 97.44%, Val Acc: 97.62%\n",
      "         Learning rate: 0.000100\n"
     ]
    },
    {
     "name": "stderr",
     "output_type": "stream",
     "text": [
      "Epoch 13/50: 100%|███████████████████████████████████| 844/844 [00:19<00:00, 44.15it/s, Loss=0.0604]\n"
     ]
    },
    {
     "name": "stdout",
     "output_type": "stream",
     "text": [
      "Epoch 13: Train Loss: 0.0819, Train Acc: 97.45%, Val Acc: 97.53%\n",
      "         Learning rate: 0.000100\n"
     ]
    },
    {
     "name": "stderr",
     "output_type": "stream",
     "text": [
      "Epoch 14/50: 100%|███████████████████████████████████| 844/844 [00:18<00:00, 44.64it/s, Loss=0.0535]\n"
     ]
    },
    {
     "name": "stdout",
     "output_type": "stream",
     "text": [
      "Epoch 14: Train Loss: 0.0805, Train Acc: 97.55%, Val Acc: 97.83%\n",
      "         Learning rate: 0.000010\n"
     ]
    },
    {
     "name": "stderr",
     "output_type": "stream",
     "text": [
      "Epoch 15/50: 100%|███████████████████████████████████| 844/844 [00:18<00:00, 44.86it/s, Loss=0.0360]\n"
     ]
    },
    {
     "name": "stdout",
     "output_type": "stream",
     "text": [
      "Epoch 15: Train Loss: 0.0778, Train Acc: 97.56%, Val Acc: 97.73%\n",
      "         Learning rate: 0.000010\n"
     ]
    },
    {
     "name": "stderr",
     "output_type": "stream",
     "text": [
      "Epoch 16/50: 100%|███████████████████████████████████| 844/844 [00:18<00:00, 44.66it/s, Loss=0.1423]\n"
     ]
    },
    {
     "name": "stdout",
     "output_type": "stream",
     "text": [
      "Epoch 16: Train Loss: 0.0786, Train Acc: 97.56%, Val Acc: 97.73%\n",
      "         Learning rate: 0.000010\n"
     ]
    },
    {
     "name": "stderr",
     "output_type": "stream",
     "text": [
      "Epoch 17/50: 100%|███████████████████████████████████| 844/844 [00:18<00:00, 44.44it/s, Loss=0.0482]\n"
     ]
    },
    {
     "name": "stdout",
     "output_type": "stream",
     "text": [
      "Epoch 17: Train Loss: 0.0748, Train Acc: 97.71%, Val Acc: 97.70%\n",
      "         Learning rate: 0.000010\n"
     ]
    },
    {
     "name": "stderr",
     "output_type": "stream",
     "text": [
      "Epoch 18/50: 100%|███████████████████████████████████| 844/844 [00:19<00:00, 44.35it/s, Loss=0.1871]\n"
     ]
    },
    {
     "name": "stdout",
     "output_type": "stream",
     "text": [
      "Epoch 18: Train Loss: 0.0750, Train Acc: 97.76%, Val Acc: 97.65%\n",
      "         Learning rate: 0.000010\n"
     ]
    },
    {
     "name": "stderr",
     "output_type": "stream",
     "text": [
      "Epoch 19/50: 100%|███████████████████████████████████| 844/844 [00:18<00:00, 44.75it/s, Loss=0.0463]\n"
     ]
    },
    {
     "name": "stdout",
     "output_type": "stream",
     "text": [
      "Epoch 19: Train Loss: 0.0754, Train Acc: 97.62%, Val Acc: 97.77%\n",
      "         Learning rate: 0.000010\n",
      "\n",
      "Early stopping at epoch 19!\n",
      "Best validation accuracy: 97.83%\n",
      "\n",
      "Training completed. Best validation accuracy: 97.83%\n",
      "\n",
      "============================================================\n",
      "FINAL RESULTS\n",
      "============================================================\n",
      "Test Accuracy: 98.57%\n",
      "Best validation accuracy: 97.83%\n",
      "Final test accuracy: 98.57%\n",
      "Model saved to final_mnist_model.pth\n",
      "\n",
      "Training completed successfully!\n"
     ]
    }
   ],
   "source": [
    "import torch\n",
    "import torch.nn as nn\n",
    "import torch.optim as optim\n",
    "from torchvision import datasets, transforms\n",
    "from torch.utils.data import DataLoader, random_split\n",
    "from tqdm import tqdm\n",
    "import os\n",
    "\n",
    "# Check if GPU is available\n",
    "device = torch.device(\"cuda\" if torch.cuda.is_available() else \"cpu\")\n",
    "print(f\"Using device: {device}\")\n",
    "\n",
    "class DigitClassifier(nn.Module):\n",
    "    def __init__(self, dropout_rate=0.2):\n",
    "        super().__init__()\n",
    "        self.flatten = nn.Flatten()\n",
    "        self.fc1 = nn.Linear(28*28, 256)\n",
    "        self.relu1 = nn.ReLU()\n",
    "        self.dropout1 = nn.Dropout(dropout_rate)\n",
    "        self.fc2 = nn.Linear(256, 128)\n",
    "        self.relu2 = nn.ReLU()\n",
    "        self.dropout2 = nn.Dropout(dropout_rate)\n",
    "        self.fc3 = nn.Linear(128, 10)\n",
    "\n",
    "    def forward(self, x: torch.Tensor) -> torch.Tensor:\n",
    "        x = self.flatten(x)\n",
    "        x = self.relu1(self.fc1(x))\n",
    "        x = self.dropout1(x)\n",
    "        x = self.relu2(self.fc2(x))\n",
    "        x = self.dropout2(x)\n",
    "        x = self.fc3(x)\n",
    "        return x  # logits\n",
    "\n",
    "class CNNDigitClassifier(nn.Module):\n",
    "    def __init__(self, dropout_rate=0.25):\n",
    "        super().__init__()\n",
    "        self.conv1 = nn.Conv2d(1, 32, 3, padding=1)\n",
    "        self.conv2 = nn.Conv2d(32, 64, 3, padding=1)\n",
    "        self.pool = nn.MaxPool2d(2)\n",
    "        self.dropout1 = nn.Dropout2d(0.25)\n",
    "        self.fc1 = nn.Linear(64 * 7 * 7, 128)\n",
    "        self.dropout2 = nn.Dropout(dropout_rate)\n",
    "        self.fc2 = nn.Linear(128, 10)\n",
    "        \n",
    "    def forward(self, x):\n",
    "        x = self.pool(torch.relu(self.conv1(x)))\n",
    "        x = self.pool(torch.relu(self.conv2(x)))\n",
    "        x = self.dropout1(x)\n",
    "        x = x.view(-1, 64 * 7 * 7)\n",
    "        x = torch.relu(self.fc1(x))\n",
    "        x = self.dropout2(x)\n",
    "        x = self.fc2(x)\n",
    "        return x\n",
    "\n",
    "def load_data_with_validation(batch_size: int, validation_split=0.1):\n",
    "    base_transform = transforms.Compose([\n",
    "        transforms.ToTensor(),\n",
    "        transforms.Normalize((0.1307,), (0.3081,))\n",
    "    ])\n",
    "    train_transform = transforms.Compose([\n",
    "        transforms.RandomRotation(10),\n",
    "        transforms.RandomAffine(0, shear=10, scale=(0.8, 1.2)),\n",
    "        transforms.ToTensor(),\n",
    "        transforms.Normalize((0.1307,), (0.3081,))\n",
    "    ])\n",
    "    full_train_dataset = datasets.MNIST(root=\"./data\", train=True,\n",
    "                                        download=True, transform=train_transform)\n",
    "    test_dataset = datasets.MNIST(root=\"./data\", train=False,\n",
    "                                  download=True, transform=base_transform)\n",
    "    train_size = int((1 - validation_split) * len(full_train_dataset))\n",
    "    val_size = len(full_train_dataset) - train_size\n",
    "    train_dataset, val_dataset = random_split(full_train_dataset,\n",
    "                                              [train_size, val_size])\n",
    "    train_loader = DataLoader(train_dataset, batch_size=batch_size, shuffle=True)\n",
    "    val_loader = DataLoader(val_dataset, batch_size=1000, shuffle=False)\n",
    "    test_loader = DataLoader(test_dataset, batch_size=1000, shuffle=False)\n",
    "    print(f\"Dataset sizes - Train: {len(train_dataset)}, Val: {len(val_dataset)}, Test: {len(test_dataset)}\")\n",
    "    return train_loader, val_loader, test_loader\n",
    "\n",
    "def train_model(model, train_loader, val_loader, criterion, optimizer, scheduler=None, max_epochs=50):\n",
    "    model.to(device)\n",
    "    best_val_acc = 0\n",
    "    patience_counter = 0\n",
    "    patience = 5\n",
    "    print(f\"Starting training for up to {max_epochs} epochs...\")\n",
    "    print(\"-\" * 60)\n",
    "    \n",
    "    for epoch in range(max_epochs):\n",
    "        model.train()\n",
    "        total_loss, correct, total = 0, 0, 0\n",
    "        train_pbar = tqdm(train_loader, desc=f\"Epoch {epoch+1:2d}/{max_epochs}\", ncols=100)\n",
    "        for imgs, labels in train_pbar:\n",
    "            imgs, labels = imgs.to(device), labels.to(device)\n",
    "            optimizer.zero_grad()\n",
    "            logits = model(imgs)\n",
    "            loss = criterion(logits, labels)\n",
    "            loss.backward()\n",
    "            optimizer.step()\n",
    "            total_loss += loss.item()\n",
    "            _, preds = torch.max(logits, dim=1)\n",
    "            correct += (preds == labels).sum().item()\n",
    "            total += labels.size(0)\n",
    "            train_pbar.set_postfix({'Loss': f'{loss.item():.4f}'})\n",
    "        avg_loss = total_loss / len(train_loader)\n",
    "        train_accuracy = 100. * correct / total\n",
    "        val_accuracy = evaluate_model(model, val_loader, return_accuracy=True, verbose=False)\n",
    "        print(f\"Epoch {epoch+1:2d}: Train Loss: {avg_loss:.4f}, Train Acc: {train_accuracy:.2f}%, Val Acc: {val_accuracy:.2f}%\")\n",
    "        if scheduler:\n",
    "            scheduler.step()\n",
    "            current_lr = scheduler.get_last_lr()[0]\n",
    "            if epoch > 0:\n",
    "                print(f\"         Learning rate: {current_lr:.6f}\")\n",
    "        if val_accuracy > best_val_acc:\n",
    "            best_val_acc = val_accuracy\n",
    "            patience_counter = 0\n",
    "            torch.save(model.state_dict(), 'best_mnist_model.pth')\n",
    "        else:\n",
    "            patience_counter += 1\n",
    "        if patience_counter >= patience:\n",
    "            print(f\"\\nEarly stopping at epoch {epoch+1}!\")\n",
    "            print(f\"Best validation accuracy: {best_val_acc:.2f}%\")\n",
    "            break\n",
    "    model.load_state_dict(torch.load('best_mnist_model.pth'))\n",
    "    print(f\"\\nTraining completed. Best validation accuracy: {best_val_acc:.2f}%\")\n",
    "    return best_val_acc\n",
    "\n",
    "def evaluate_model(model, test_loader, return_accuracy=False, verbose=True):\n",
    "    model.eval()\n",
    "    model.to(device)\n",
    "    correct, total = 0, 0\n",
    "    with torch.no_grad():\n",
    "        for imgs, labels in test_loader:\n",
    "            imgs, labels = imgs.to(device), labels.to(device)\n",
    "            logits = model(imgs)\n",
    "            _, preds = torch.max(logits, dim=1)\n",
    "            correct += (preds == labels).sum().item()\n",
    "            total += labels.size(0)\n",
    "    accuracy = 100. * correct / total\n",
    "    if verbose:\n",
    "        print(f\"Test Accuracy: {accuracy:.2f}%\")\n",
    "    if return_accuracy:\n",
    "        return accuracy\n",
    "\n",
    "def save_model(model, filepath, metadata=None):\n",
    "    save_dict = {\n",
    "        'model_state_dict': model.state_dict(),\n",
    "        'model_class': model.__class__.__name__\n",
    "    }\n",
    "    if metadata:\n",
    "        save_dict.update(metadata)\n",
    "    torch.save(save_dict, filepath)\n",
    "    print(f\"Model saved to {filepath}\")\n",
    "\n",
    "def load_model(filepath, model_class):\n",
    "    checkpoint = torch.load(filepath)\n",
    "    model = model_class()\n",
    "    model.load_state_dict(checkpoint['model_state_dict'])\n",
    "    return model\n",
    "\n",
    "def count_parameters(model):\n",
    "    return sum(p.numel() for p in model.parameters() if p.requires_grad)\n",
    "\n",
    "if __name__ == \"__main__\":\n",
    "    batch_size = 64\n",
    "    learning_rate = 0.001\n",
    "    max_epochs = 50\n",
    "    dropout_rate = 0.2\n",
    "    use_cnn = False  # Set to True to use CNN instead of fully connected\n",
    "    \n",
    "    print(\"=\" * 60)\n",
    "    print(\"MNIST Digit Classification - Improved Version\")\n",
    "    print(\"=\" * 60)\n",
    "    \n",
    "    train_loader, val_loader, test_loader = load_data_with_validation(batch_size)\n",
    "    if use_cnn:\n",
    "        model = CNNDigitClassifier(dropout_rate=dropout_rate)\n",
    "        print(\"Using CNN architecture\")\n",
    "    else:\n",
    "        model = DigitClassifier(dropout_rate=dropout_rate)\n",
    "        print(\"Using fully connected architecture\")\n",
    "    print(f\"Model has {count_parameters(model):,} trainable parameters\")\n",
    "    \n",
    "    criterion = nn.CrossEntropyLoss()\n",
    "    optimizer = optim.Adam(model.parameters(), lr=learning_rate, weight_decay=1e-4)\n",
    "    scheduler = optim.lr_scheduler.StepLR(optimizer, step_size=7, gamma=0.1)\n",
    "    \n",
    "    print(\"Training configuration:\")\n",
    "    print(f\"  Batch size: {batch_size}\")\n",
    "    print(f\"  Learning rate: {learning_rate}\")\n",
    "    print(f\"  Dropout rate: {dropout_rate}\")\n",
    "    print(f\"  Max epochs: {max_epochs}\")\n",
    "    print(f\"  Weight decay: 1e-4\")\n",
    "    \n",
    "    best_val_acc = train_model(model, train_loader, val_loader, criterion, optimizer, scheduler, max_epochs)\n",
    "\n",
    "    print(\"\\n\" + \"=\" * 60)\n",
    "    print(\"FINAL RESULTS\")\n",
    "    print(\"=\" * 60)\n",
    "\n",
    "    test_acc = evaluate_model(model, test_loader, return_accuracy=True)\n",
    "    \n",
    "    print(f\"Best validation accuracy: {best_val_acc:.2f}%\")\n",
    "    print(f\"Final test accuracy: {test_acc:.2f}%\")\n",
    "    \n",
    "    metadata = {\n",
    "        'test_accuracy': test_acc,\n",
    "        'best_val_accuracy': best_val_acc,\n",
    "        'hyperparameters': {\n",
    "            'batch_size': batch_size,\n",
    "            'learning_rate': learning_rate,\n",
    "            'dropout_rate': dropout_rate,\n",
    "            'architecture': 'CNN' if use_cnn else 'FC'\n",
    "        }\n",
    "    }\n",
    "    save_model(model, 'final_mnist_model.pth', metadata)\n",
    "    if os.path.exists('best_mnist_model.pth'):\n",
    "        os.remove('best_mnist_model.pth')\n",
    "    print(\"\\nTraining completed successfully!\")\n"
   ]
  }
 ],
 "metadata": {
  "kaggle": {
   "accelerator": "gpu",
   "dataSources": [
    {
     "databundleVersionId": 861823,
     "sourceId": 3004,
     "sourceType": "competition"
    }
   ],
   "dockerImageVersionId": 31089,
   "isGpuEnabled": true,
   "isInternetEnabled": true,
   "language": "python",
   "sourceType": "notebook"
  },
  "kernelspec": {
   "display_name": "Python 3",
   "language": "python",
   "name": "python3"
  },
  "language_info": {
   "codemirror_mode": {
    "name": "ipython",
    "version": 3
   },
   "file_extension": ".py",
   "mimetype": "text/x-python",
   "name": "python",
   "nbconvert_exporter": "python",
   "pygments_lexer": "ipython3",
   "version": "3.11.13"
  },
  "papermill": {
   "default_parameters": {},
   "duration": 413.859097,
   "end_time": "2025-09-21T13:58:07.221708",
   "environment_variables": {},
   "exception": null,
   "input_path": "__notebook__.ipynb",
   "output_path": "__notebook__.ipynb",
   "parameters": {},
   "start_time": "2025-09-21T13:51:13.362611",
   "version": "2.6.0"
  }
 },
 "nbformat": 4,
 "nbformat_minor": 5
}
